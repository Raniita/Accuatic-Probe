{
 "cells": [
  {
   "attachments": {},
   "cell_type": "markdown",
   "metadata": {},
   "source": [
    "# Metodo UNESCO para calculo de salinidad\n",
    "\n",
    "Entrada:\n",
    "* Conductividad (uS/cm)\n",
    "* Temperatura (T90)\n",
    "* Profundidad (metros)\n",
    "\n",
    "Salida:\n",
    "* Salinidad (pps)"
   ]
  },
  {
   "cell_type": "code",
   "execution_count": 39,
   "metadata": {},
   "outputs": [
    {
     "name": "stdout",
     "output_type": "stream",
     "text": [
      "T: 13.6714, D: 0.206, CE: 8815.365\n"
     ]
    }
   ],
   "source": [
    "# INPUTS\n",
    "temp_t90 = 13.6714\n",
    "depth = 0.206\n",
    "ce = 8815.365\n",
    "\n",
    "print(f\"T: {temp_t90}, D: {depth}, CE: {ce}\")"
   ]
  },
  {
   "cell_type": "code",
   "execution_count": 40,
   "metadata": {},
   "outputs": [
    {
     "name": "stdout",
     "output_type": "stream",
     "text": [
      "T_68: 13.674681136\n"
     ]
    }
   ],
   "source": [
    "# Transformamos la temperatura T90 a T68\n",
    "temp = temp_t90 * 1.00024\n",
    "print(f\"T_68: {temp}\")"
   ]
  },
  {
   "cell_type": "code",
   "execution_count": 41,
   "metadata": {},
   "outputs": [
    {
     "name": "stdout",
     "output_type": "stream",
     "text": [
      "Pressure (decibar): 0.2100673235179526\n"
     ]
    }
   ],
   "source": [
    "# Transformamos profundidad a presión en decibares\n",
    "pressure = depth * 1.0197442889221\n",
    "print(f\"Pressure (decibar): {pressure}\")"
   ]
  },
  {
   "cell_type": "code",
   "execution_count": 42,
   "metadata": {},
   "outputs": [
    {
     "name": "stdout",
     "output_type": "stream",
     "text": [
      "S_Conductance: 11.396816652476923\n"
     ]
    }
   ],
   "source": [
    "# Transformamos a conductancia específica\n",
    "specific_conductance = (ce / (1+0.02*(temp-25)))/1000\n",
    "print(f\"S_Conductance: {specific_conductance}\")"
   ]
  },
  {
   "attachments": {},
   "cell_type": "markdown",
   "metadata": {},
   "source": [
    "### Empiezan los calculos de la formula"
   ]
  },
  {
   "cell_type": "code",
   "execution_count": 43,
   "metadata": {},
   "outputs": [
    {
     "data": {
      "text/plain": [
       "0.20541932702614532"
      ]
     },
     "execution_count": 43,
     "metadata": {},
     "output_type": "execute_result"
    }
   ],
   "source": [
    "R = ce / 42914\n",
    "R"
   ]
  },
  {
   "cell_type": "code",
   "execution_count": 44,
   "metadata": {},
   "outputs": [
    {
     "data": {
      "text/plain": [
       "{'e1': 2.07e-05,\n",
       " 'e2': -6.37e-10,\n",
       " 'e3': 3.989e-15,\n",
       " 'd1': 0.03426,\n",
       " 'd2': 0.0004464,\n",
       " 'd3': 0.4215,\n",
       " 'd4': -0.003107}"
      ]
     },
     "execution_count": 44,
     "metadata": {},
     "output_type": "execute_result"
    }
   ],
   "source": [
    "coef_Rp = {\n",
    "    \"e1\": 0.0000207,\n",
    "    \"e2\": -0.000000000637,\n",
    "    \"e3\": 3.989E-15,\n",
    "    \"d1\": 0.03426,\n",
    "    \"d2\": 0.0004464,\n",
    "    \"d3\": 0.4215,\n",
    "    \"d4\": -0.003107\n",
    "}\n",
    "coef_Rp"
   ]
  },
  {
   "cell_type": "code",
   "execution_count": 45,
   "metadata": {},
   "outputs": [
    {
     "data": {
      "text/plain": [
       "1.0000028023218088"
      ]
     },
     "execution_count": 45,
     "metadata": {},
     "output_type": "execute_result"
    }
   ],
   "source": [
    "Rp = 1 + pressure * (coef_Rp[\"e1\"] + (coef_Rp[\"e2\"] * pressure) + (coef_Rp[\"e3\"]*pressure**2))/(1 + coef_Rp[\"d1\"]*temp + coef_Rp[\"d2\"]*temp**2 + (coef_Rp[\"d3\"]*coef_Rp[\"d4\"])*R)\n",
    "Rp"
   ]
  },
  {
   "cell_type": "code",
   "execution_count": 46,
   "metadata": {},
   "outputs": [
    {
     "data": {
      "text/plain": [
       "{'c0': 0.6766097,\n",
       " 'c1': 0.0200664,\n",
       " 'c2': 0.0001104259,\n",
       " 'c3': -6.9698e-07,\n",
       " 'c4': 1.0031e-09}"
      ]
     },
     "execution_count": 46,
     "metadata": {},
     "output_type": "execute_result"
    }
   ],
   "source": [
    "coef_rt = {\n",
    "    \"c0\": 0.6766097,\n",
    "    \"c1\": 0.0200664,\n",
    "    \"c2\": 0.0001104259,\n",
    "    \"c3\": -0.00000069698,\n",
    "    \"c4\": 0.0000000010031\n",
    "}\n",
    "coef_rt"
   ]
  },
  {
   "cell_type": "code",
   "execution_count": 47,
   "metadata": {},
   "outputs": [
    {
     "data": {
      "text/plain": [
       "0.9699134356152391"
      ]
     },
     "execution_count": 47,
     "metadata": {},
     "output_type": "execute_result"
    }
   ],
   "source": [
    "rt = coef_rt[\"c0\"] + coef_rt[\"c1\"]*temp + coef_rt[\"c2\"]*temp**2 + coef_rt[\"c3\"]*temp**3 + coef_rt[\"c4\"]*temp**4\n",
    "rt"
   ]
  },
  {
   "cell_type": "code",
   "execution_count": 48,
   "metadata": {},
   "outputs": [
    {
     "data": {
      "text/plain": [
       "0.21179080919360233"
      ]
     },
     "execution_count": 48,
     "metadata": {},
     "output_type": "execute_result"
    }
   ],
   "source": [
    "Rt = R / (Rp*rt)\n",
    "Rt"
   ]
  },
  {
   "cell_type": "code",
   "execution_count": 49,
   "metadata": {},
   "outputs": [
    {
     "data": {
      "text/plain": [
       "{'b0': 0.0005,\n",
       " 'b1': -0.0056,\n",
       " 'b2': -0.0066,\n",
       " 'b3': -0.0375,\n",
       " 'b4': 0.0636,\n",
       " 'b5': -0.0144,\n",
       " 'k': 0.0162}"
      ]
     },
     "execution_count": 49,
     "metadata": {},
     "output_type": "execute_result"
    }
   ],
   "source": [
    "coef_AS = {\n",
    "    \"b0\": 0.0005,\n",
    "    \"b1\": -0.0056,\n",
    "    \"b2\": -0.0066,\n",
    "    \"b3\": -0.0375,\n",
    "    \"b4\": 0.0636,\n",
    "    \"b5\": -0.0144,\n",
    "    \"k\": 0.0162\n",
    "}\n",
    "coef_AS"
   ]
  },
  {
   "cell_type": "code",
   "execution_count": 50,
   "metadata": {},
   "outputs": [
    {
     "data": {
      "text/plain": [
       "0.0061956592008433"
      ]
     },
     "execution_count": 50,
     "metadata": {},
     "output_type": "execute_result"
    }
   ],
   "source": [
    "AS = (temp-15)/(1+(coef_AS[\"k\"]*(temp-15))) * (coef_AS[\"b0\"]+coef_AS[\"b1\"]*Rt**0.5 + coef_AS[\"b2\"]*Rt+coef_AS[\"b3\"]*Rt**1.5 + coef_AS[\"b4\"]*Rt**2 + coef_AS[\"b5\"]*Rt**2.5)\n",
    "AS"
   ]
  },
  {
   "cell_type": "code",
   "execution_count": 51,
   "metadata": {},
   "outputs": [
    {
     "data": {
      "text/plain": [
       "{'a0': 0.008,\n",
       " 'a1': -0.1692,\n",
       " 'a2': 25.3851,\n",
       " 'a3': 14.0941,\n",
       " 'a4': -7.0261,\n",
       " 'a5': 2.7081}"
      ]
     },
     "execution_count": 51,
     "metadata": {},
     "output_type": "execute_result"
    }
   ],
   "source": [
    "coef_S = {\n",
    "    \"a0\": 0.008,\n",
    "    \"a1\": -0.1692,\n",
    "    \"a2\": 25.3851,\n",
    "    \"a3\": 14.0941,\n",
    "    \"a4\": -7.0261,\n",
    "    \"a5\": 2.7081\n",
    "}\n",
    "coef_S"
   ]
  },
  {
   "cell_type": "code",
   "execution_count": 52,
   "metadata": {},
   "outputs": [
    {
     "data": {
      "text/plain": [
       "6.427123294175525"
      ]
     },
     "execution_count": 52,
     "metadata": {},
     "output_type": "execute_result"
    }
   ],
   "source": [
    "S = coef_S[\"a0\"] + coef_S[\"a1\"]*Rt**0.5 + coef_S[\"a2\"]*Rt + coef_S[\"a3\"]*Rt**1.5 + coef_S[\"a4\"]*Rt**2 + coef_S[\"a5\"]*Rt**2.5 + AS\n",
    "S"
   ]
  },
  {
   "attachments": {},
   "cell_type": "markdown",
   "metadata": {},
   "source": [
    "### Agrupamos en una función"
   ]
  },
  {
   "cell_type": "code",
   "execution_count": 53,
   "metadata": {},
   "outputs": [],
   "source": [
    "def get_salinity(temp_t90, depth, ce_uScm):\n",
    "    # Transform inputs:\n",
    "    temp = temp_t90 * 1.00024\n",
    "    pressure = depth * 1.0197442889221\n",
    "    specific_conductance = (ce_uScm / (1+0.02*(temp-25)))/1000\n",
    "\n",
    "    # Chapter 3. Determination of salinity [Methods of Seawater Analysis]\n",
    "    R = ce_uScm / 42914\n",
    "    Rp = 1 + pressure * (coef_Rp[\"e1\"] + (coef_Rp[\"e2\"] * pressure) + (coef_Rp[\"e3\"]*pressure**2))/(1 + coef_Rp[\"d1\"]*temp + coef_Rp[\"d2\"]*temp**2 + (coef_Rp[\"d3\"]*coef_Rp[\"d4\"])*R)\n",
    "    rt = coef_rt[\"c0\"] + coef_rt[\"c1\"]*temp + coef_rt[\"c2\"]*temp**2 + coef_rt[\"c3\"]*temp**3 + coef_rt[\"c4\"]*temp**4\n",
    "    Rt = R / (Rp*rt)\n",
    "    AS = (temp-15)/(1+(coef_AS[\"k\"]*(temp-15))) * (coef_AS[\"b0\"]+coef_AS[\"b1\"]*Rt**0.5 + coef_AS[\"b2\"]*Rt+coef_AS[\"b3\"]*Rt**1.5 + coef_AS[\"b4\"]*Rt**2 + coef_AS[\"b5\"]*Rt**2.5)\n",
    "    S = coef_S[\"a0\"] + coef_S[\"a1\"]*Rt**0.5 + coef_S[\"a2\"]*Rt + coef_S[\"a3\"]*Rt**1.5 + coef_S[\"a4\"]*Rt**2 + coef_S[\"a5\"]*Rt**2.5 + AS\n",
    "\n",
    "    # Salinity (pps)\n",
    "    return S\n",
    "\n",
    "    "
   ]
  },
  {
   "cell_type": "code",
   "execution_count": 54,
   "metadata": {},
   "outputs": [
    {
     "data": {
      "text/plain": [
       "6.427123294175525"
      ]
     },
     "execution_count": 54,
     "metadata": {},
     "output_type": "execute_result"
    }
   ],
   "source": [
    "get_salinity(temp_t90=13.6714, depth=0.206, ce_uScm=8815.365)"
   ]
  }
 ],
 "metadata": {
  "kernelspec": {
   "display_name": "Python 3",
   "language": "python",
   "name": "python3"
  },
  "language_info": {
   "codemirror_mode": {
    "name": "ipython",
    "version": 3
   },
   "file_extension": ".py",
   "mimetype": "text/x-python",
   "name": "python",
   "nbconvert_exporter": "python",
   "pygments_lexer": "ipython3",
   "version": "3.10.9"
  },
  "orig_nbformat": 4,
  "vscode": {
   "interpreter": {
    "hash": "4e1d9a8909477db77738c33245c29c7265277ef753467dede8cf3f814cde494e"
   }
  }
 },
 "nbformat": 4,
 "nbformat_minor": 2
}
